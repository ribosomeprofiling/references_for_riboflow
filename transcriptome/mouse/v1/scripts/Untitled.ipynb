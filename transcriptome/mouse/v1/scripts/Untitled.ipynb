{
 "cells": [
  {
   "cell_type": "code",
   "execution_count": 3,
   "metadata": {},
   "outputs": [],
   "source": [
    "import sys\n",
    "sys.path.insert(0, '../..')\n",
    "import gzip\n",
    "\n",
    "from collections import defaultdict\n",
    "\n",
    "import ref_lib\n",
    "from ref_lib.Fasta import FastaFile, FastaEntry\n",
    "from ref_lib.GTF import GTFfile, GTFEntry, get_gtf_contents"
   ]
  },
  {
   "cell_type": "code",
   "execution_count": 4,
   "metadata": {},
   "outputs": [],
   "source": [
    "inp_f = \"out_selected.fa.gz\"\n",
    "output = \"tlengths.tsv\""
   ]
  },
  {
   "cell_type": "code",
   "execution_count": 11,
   "metadata": {},
   "outputs": [],
   "source": [
    "def create_transcript_lengths_file(input_fasta_file, output_tsv_file):\n",
    "    with FastaFile(input_fasta_file) as fasta_stream,\\\n",
    "         open(output_tsv_file, \"w\") as output_stream:\n",
    "         \n",
    "         for fasta_entry in fasta_stream:\n",
    "             this_line = \"{}\\t{}\".format( fasta_entry.header, \n",
    "                                          len(fasta_entry.sequence)  )\n",
    "             print(this_line, file = output_stream)"
   ]
  },
  {
   "cell_type": "code",
   "execution_count": 12,
   "metadata": {},
   "outputs": [],
   "source": [
    "create_transcript_lengths_file(inp_f, output)"
   ]
  }
 ],
 "metadata": {
  "kernelspec": {
   "display_name": "Python 3",
   "language": "python",
   "name": "python3"
  },
  "language_info": {
   "codemirror_mode": {
    "name": "ipython",
    "version": 3
   },
   "file_extension": ".py",
   "mimetype": "text/x-python",
   "name": "python",
   "nbconvert_exporter": "python",
   "pygments_lexer": "ipython3",
   "version": "3.6.7"
  }
 },
 "nbformat": 4,
 "nbformat_minor": 2
}
